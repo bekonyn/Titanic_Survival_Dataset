{
 "cells": [
  {
   "cell_type": "code",
   "execution_count": 1,
   "metadata": {},
   "outputs": [],
   "source": [
    "#In the previous mission, we tried to optimize our predictions by creating and selecting the features used to train\n",
    "#our model. Maybe changing ml model will help us out also.\n",
    "\n",
    "#So far, we've been using the logistic regression algorithm to train our models, however there are hundreds of\n",
    "#different machine learning algorithms from which we can choose. Each algorithm has different strengths and weaknesses,\n",
    "#and so we need to select the algorithm that works best with our specific data— in this case our Kaggle competition.\n",
    "\n",
    "#The process of selecting the algorithm which gives the best predictions for your data is called \"MODEL SELECTION\"\n",
    "#we're going work with two new algorithms: k-nearest neighbors and random forests.\n",
    "import pandas as pd\n",
    "import numpy as np\n",
    "import matplotlib.pyplot as plt\n",
    "%matplotlib inline"
   ]
  },
  {
   "cell_type": "code",
   "execution_count": 2,
   "metadata": {},
   "outputs": [],
   "source": [
    "#code snippet:\n",
    "import pandas as pd\n",
    "train = pd.read_csv('train_modified.csv')\n",
    "holdout = pd.read_csv('holdout_modified.csv')"
   ]
  },
  {
   "cell_type": "code",
   "execution_count": 3,
   "metadata": {},
   "outputs": [],
   "source": [
    "#We're going to train our models using all the columns in the train dataframe. This will cause a small amount of\n",
    "#overfitting due to collinearity (as we discussed in the previous mission), but having more features will allow us to\n",
    "#more thoroughly compare algorithms.\n",
    "\n",
    "#So we have something to compare to, we're going to train a logistic regression model. We'll use cross validation to\n",
    "#get a baseline score."
   ]
  },
  {
   "cell_type": "code",
   "execution_count": 3,
   "metadata": {},
   "outputs": [
    {
     "name": "stdout",
     "output_type": "stream",
     "text": [
      "[0.76666667 0.82222222 0.78651685 0.87640449 0.83146067 0.80898876\n",
      " 0.82022472 0.82022472 0.85393258 0.85227273] \n",
      " 0.823891442515038\n"
     ]
    },
    {
     "name": "stderr",
     "output_type": "stream",
     "text": [
      "C:\\Users\\berka\\Anaconda3\\lib\\site-packages\\sklearn\\linear_model\\logistic.py:432: FutureWarning: Default solver will be changed to 'lbfgs' in 0.22. Specify a solver to silence this warning.\n",
      "  FutureWarning)\n",
      "C:\\Users\\berka\\Anaconda3\\lib\\site-packages\\sklearn\\linear_model\\logistic.py:432: FutureWarning: Default solver will be changed to 'lbfgs' in 0.22. Specify a solver to silence this warning.\n",
      "  FutureWarning)\n",
      "C:\\Users\\berka\\Anaconda3\\lib\\site-packages\\sklearn\\linear_model\\logistic.py:432: FutureWarning: Default solver will be changed to 'lbfgs' in 0.22. Specify a solver to silence this warning.\n",
      "  FutureWarning)\n",
      "C:\\Users\\berka\\Anaconda3\\lib\\site-packages\\sklearn\\linear_model\\logistic.py:432: FutureWarning: Default solver will be changed to 'lbfgs' in 0.22. Specify a solver to silence this warning.\n",
      "  FutureWarning)\n",
      "C:\\Users\\berka\\Anaconda3\\lib\\site-packages\\sklearn\\linear_model\\logistic.py:432: FutureWarning: Default solver will be changed to 'lbfgs' in 0.22. Specify a solver to silence this warning.\n",
      "  FutureWarning)\n",
      "C:\\Users\\berka\\Anaconda3\\lib\\site-packages\\sklearn\\linear_model\\logistic.py:432: FutureWarning: Default solver will be changed to 'lbfgs' in 0.22. Specify a solver to silence this warning.\n",
      "  FutureWarning)\n",
      "C:\\Users\\berka\\Anaconda3\\lib\\site-packages\\sklearn\\linear_model\\logistic.py:432: FutureWarning: Default solver will be changed to 'lbfgs' in 0.22. Specify a solver to silence this warning.\n",
      "  FutureWarning)\n",
      "C:\\Users\\berka\\Anaconda3\\lib\\site-packages\\sklearn\\linear_model\\logistic.py:432: FutureWarning: Default solver will be changed to 'lbfgs' in 0.22. Specify a solver to silence this warning.\n",
      "  FutureWarning)\n",
      "C:\\Users\\berka\\Anaconda3\\lib\\site-packages\\sklearn\\linear_model\\logistic.py:432: FutureWarning: Default solver will be changed to 'lbfgs' in 0.22. Specify a solver to silence this warning.\n",
      "  FutureWarning)\n",
      "C:\\Users\\berka\\Anaconda3\\lib\\site-packages\\sklearn\\linear_model\\logistic.py:432: FutureWarning: Default solver will be changed to 'lbfgs' in 0.22. Specify a solver to silence this warning.\n",
      "  FutureWarning)\n"
     ]
    }
   ],
   "source": [
    "#code snippet:\n",
    "from sklearn.linear_model import LogisticRegression\n",
    "from sklearn.model_selection import cross_val_score\n",
    "\n",
    "all_X = train.drop(['Survived','PassengerId'],axis=1)\n",
    "all_y = train['Survived']\n",
    "\n",
    "lr=LogisticRegression()\n",
    "scores=cross_val_score(lr,all_X,all_y,cv=10)\n",
    "accuracy_lr=scores.mean()\n",
    "print(scores,\"\\n\",accuracy_lr)"
   ]
  },
  {
   "cell_type": "markdown",
   "metadata": {},
   "source": [
    "## Training a Model using K-Nearest Neighbors"
   ]
  },
  {
   "cell_type": "code",
   "execution_count": 4,
   "metadata": {},
   "outputs": [],
   "source": [
    "# The logistic regression baseline model from the previous screen scored 82.4%.\n",
    "\n",
    "# Model\tCross-validation score\tKaggle score\n",
    "# Previous best Kaggle score\t82.3%\t78.0%\n",
    "# Logistic regression baseline\t82.4%\t?\n",
    "\n",
    "#The logistic regression algorithm works by calculating linear rships between the features and the target variable and\n",
    "#using those to make predictions. Let's look at an algorithm that makes predictions using a different method.\n",
    "\n",
    "#The k-nearest neighbors algorithm finds the observations in our training set most similar to the observation in our\n",
    "#test set, and uses the average outcome of those 'neighbor' observations to make a prediction. The 'k' is the number\n",
    "#of neighbor observations used to make the prediction.\n",
    "\n",
    "#If you'd like to learn more about the k-nearest neighbors algorithm, you might like to check out doc about KNeighborsC\n",
    "#lassifier\n",
    "\n",
    "#Just like it does for logistic regression, scikit-learn has a class that makes it easy to use k-nearest neighbors to\n",
    "#make predictions, neighbors.KNeighborsClassifier.\n",
    "\n",
    "#The optional n_neighbors argument sets the value of k when predictions are made. The default value of n_neighbors is 5\n",
    "# but we're going to start by building a simple model that uses the closest neighbor to make our predictions."
   ]
  },
  {
   "cell_type": "code",
   "execution_count": 5,
   "metadata": {},
   "outputs": [
    {
     "data": {
      "text/plain": [
       "0.7857382816933379"
      ]
     },
     "execution_count": 5,
     "metadata": {},
     "output_type": "execute_result"
    }
   ],
   "source": [
    "#code snippet:\n",
    "from sklearn.neighbors import KNeighborsClassifier\n",
    "knn = KNeighborsClassifier(n_neighbors=1)\n",
    "\n",
    "scores = cross_val_score(knn, all_X, all_y, cv=10)\n",
    "accuracy_knn = scores.mean()\n",
    "accuracy_knn"
   ]
  },
  {
   "cell_type": "markdown",
   "metadata": {},
   "source": [
    "## Exploring Different K Values"
   ]
  },
  {
   "cell_type": "code",
   "execution_count": 6,
   "metadata": {},
   "outputs": [],
   "source": [
    "# The k-nearest neighbors model we trained in the previous screen had an accuracy score of 78.6%, worse than our\n",
    "#baseline score of 82.4%.\n",
    "\n",
    "# Model\tCross-validation score\tKaggle score\n",
    "# Previous best Kaggle score\t82.3%\t78.0%\n",
    "# Logistic regression baseline\t82.4%\t?\n",
    "# K-nearest neighbors, k == 1\t78.6%\t?\n",
    "\n",
    "#Besides default settings, we can vary the settings of each model— for instance the value of k in our k-nearest\n",
    "#neighbors model. This is called hyperparameter optimization.\n",
    "\n",
    "#We can use a loop and Python's inbuilt range() class to iterate through different values for k and calculate the\n",
    "#accuracy score for each different value. We will only want to test odd values for k to avoid ties,where both 'survived\n",
    "#and 'died' outcomes would have the same number of neighbors.\n",
    "\n",
    "#Let's use this technique to calculate the accuracy of our model for values of k from 1-49, storing the results in a\n",
    "#dictionary."
   ]
  },
  {
   "cell_type": "code",
   "execution_count": 7,
   "metadata": {},
   "outputs": [
    {
     "data": {
      "image/png": "[encoded data removed]",
      "text/plain": [
       "<Figure size 648x432 with 1 Axes>"
      ]
     },
     "metadata": {
      "needs_background": "light"
     },
     "output_type": "display_data"
    }
   ],
   "source": [
    "#code snippet:\n",
    "import matplotlib.pyplot as plt\n",
    "\n",
    "def plot_dict(dictionary):\n",
    "    pd.Series(dictionary).plot.bar(figsize=(9,6),\n",
    "                                   ylim=(0.78,0.83),rot=0)\n",
    "    plt.show()\n",
    "\n",
    "knn_scores = dict()\n",
    "for k in range(1,50,2):\n",
    "    knn = KNeighborsClassifier(n_neighbors=k)\n",
    "\n",
    "    scores = cross_val_score(knn, all_X, all_y, cv=10)\n",
    "    accuracy_knn = scores.mean()\n",
    "    knn_scores[k] = accuracy_knn\n",
    "\n",
    "plot_dict(knn_scores)\n",
    "plt.show()"
   ]
  },
  {
   "cell_type": "markdown",
   "metadata": {},
   "source": [
    "## Hyperparameter Optimization with Grid Search"
   ]
  },
  {
   "cell_type": "code",
   "execution_count": 8,
   "metadata": {},
   "outputs": [
    {
     "name": "stdout",
     "output_type": "stream",
     "text": [
      "{'n_neighbors': 19}\n",
      "0.8237934904601572\n"
     ]
    }
   ],
   "source": [
    "#Looking at our plot from the previous screen we can see that a k value of 19 gave us our best score, and checking the\n",
    "#knn_scores dictionary we can see that the score was 82.4%, identical to our baseline (if we didn't round the numbers\n",
    "#you would see that it's actually 0.01% less accurate).\n",
    "\n",
    "# Model\tCross-validation score\tKaggle score\n",
    "# Previous best Kaggle score\t82.3%\t78.0%\n",
    "# Logistic regression baseline\t82.4%\t?\n",
    "# K-nearest neighbors, k == 1\t78.6%\t?\n",
    "# K-nearest neighbors, k == 19\t82.4%\t?\n",
    "\n",
    "#The technique we just used is called grid search - we train a number of models across a 'grid' of values and then\n",
    "#searched for the model that gave us the highest accuracy.Sklearn has a class to perform grid search, model_selection\n",
    "#GridSearchCV(). The 'CV' in the name indicates that we're performing both grid search and cross val at the same time.\n",
    "\n",
    "#By creating a dictionary of parameters and possible values and passing it to the GridSearchCV object we can automate\n",
    "#the process. Here's what the code from the prev screen would look like, when implemented using the GridSearchCV class.\n",
    "from sklearn.model_selection import GridSearchCV\n",
    "\n",
    "knn = KNeighborsClassifier()\n",
    "\n",
    "hyperparameters = {\n",
    "    \"n_neighbors\": range(1,50,2)\n",
    "}\n",
    "grid = GridSearchCV(knn, param_grid=hyperparameters, cv=10)\n",
    "grid.fit(all_X, all_y)\n",
    "\n",
    "print(grid.best_params_)\n",
    "print(grid.best_score_)\n",
    "\n",
    "#Our final step was to print the GridSearchCV.best_params_ and GridSearchCV.best_score_ attr to retrieve the params\n",
    "#of the best-performing model, and the score it achieved.\n",
    "\n",
    "#We can also use GridSearchCV to try combinations of different hyperparameters. Say we wanted to test values of\n",
    "#3 dif tree algorithms. for the algorithm parameter and values of 1, 3, and 5 for the n_neighbors algo\n",
    "#parameter. GridSearchCV would train and test 9 models (3 for the first hyperparameter times 3 for the second hyperparameter\n",
    "#shown in the diagram below.\n",
    "\n"
   ]
  },
  {
   "cell_type": "code",
   "execution_count": 9,
   "metadata": {},
   "outputs": [
    {
     "name": "stdout",
     "output_type": "stream",
     "text": [
      "{'algorithm': 'brute', 'n_neighbors': 5, 'p': 1, 'weights': 'uniform'}\n",
      "0.8282828282828283\n"
     ]
    }
   ],
   "source": [
    "#code snippet:\n",
    "from sklearn.model_selection import GridSearchCV\n",
    "\n",
    "hyperparameters = {\n",
    "    \"n_neighbors\": range(1,20,2),\n",
    "    \"weights\": [\"distance\", \"uniform\"],\n",
    "    \"algorithm\": ['brute'],\n",
    "    \"p\": [1,2]\n",
    "}\n",
    "knn = KNeighborsClassifier()\n",
    "grid = GridSearchCV(knn,param_grid=hyperparameters,cv=10)\n",
    "\n",
    "grid.fit(all_X, all_y)\n",
    "\n",
    "best_params = grid.best_params_\n",
    "best_score = grid.best_score_\n",
    "\n",
    "print(best_params)\n",
    "print(best_score)"
   ]
  },
  {
   "cell_type": "markdown",
   "metadata": {},
   "source": [
    "## Submitting KNN Predictions to Kaggle - Attempt2.5"
   ]
  },
  {
   "cell_type": "code",
   "execution_count": 10,
   "metadata": {},
   "outputs": [
    {
     "data": {
      "text/plain": [
       "KNeighborsClassifier(algorithm='brute', leaf_size=30, metric='minkowski',\n",
       "                     metric_params=None, n_jobs=None, n_neighbors=5, p=1,\n",
       "                     weights='uniform')"
      ]
     },
     "execution_count": 10,
     "metadata": {},
     "output_type": "execute_result"
    }
   ],
   "source": [
    "# The cross-validation score for the best performing model was 82.7%, better than our baseline model.\n",
    "\n",
    "# Model\tCross-validation score\tKaggle score\n",
    "# Previous best Kaggle score\t82.3%\t78.0%\n",
    "# Logistic regression baseline\t82.4%\t?\n",
    "# K-nearest neighbors, k == 1\t78.6%\t?\n",
    "# K-nearest neighbors, k == 19\t82.4%\t?\n",
    "# K-nearest neighbors, best model from grid search\t82.7%\t?\n",
    "\n",
    "#We can use the GridSearchCV.best_estimator_ attribute to retrieve a trained model with the best-performing hyperparams\n",
    "best_knn = grid.best_estimator_\n",
    "#is equivalent to this code where we manually specify the hyperparameters and train the model:\n",
    "best_knn = KNeighborsClassifier(p=1,algorithm='brute',n_neighbors=5,weights='uniform')\n",
    "best_knn.fit(all_X,all_y)\n",
    "\n",
    "#Lets use that model to make preds on the holdout set, submit those preds to Kaggle to see if we have improved overall\n"
   ]
  },
  {
   "cell_type": "code",
   "execution_count": 11,
   "metadata": {},
   "outputs": [],
   "source": [
    "#code snippet:\n",
    "holdout_no_id = holdout.drop(['PassengerId'],axis=1)\n",
    "best_knn = grid.best_estimator_\n",
    "holdout_predictions = best_knn.predict(holdout_no_id)\n",
    "\n",
    "holdout_ids = holdout[\"PassengerId\"]\n",
    "submission_df = {\"PassengerId\": holdout_ids,\n",
    "                 \"Survived\": holdout_predictions}\n",
    "submission = pd.DataFrame(submission_df)\n",
    "\n",
    "submission.to_csv(\"submission_1.csv\",index=False)"
   ]
  },
  {
   "cell_type": "markdown",
   "metadata": {},
   "source": [
    "## Random Forests"
   ]
  },
  {
   "cell_type": "code",
   "execution_count": 14,
   "metadata": {},
   "outputs": [],
   "source": [
    "#When we submit this(knn besthyper,best k attempt) to Kaggle,we'll see it scores 75.6%, less than our best submission\n",
    "#of 78.0%. While our model could be overfitting due to including all columns, it also seems like k-nearest neighbors\n",
    "#may not be the best algorithm choice.\n",
    "\n",
    "# Model\tCross-validation score\tKaggle score\n",
    "# Previous best Kaggle score\t82.3%\t78.0%\n",
    "# Logistic regression baseline\t82.4%\t\n",
    "# K-nearest neighbors, k == 1\t78.6%\t\n",
    "# K-nearest neighbors, k == 19\t82.4%\t\n",
    "# K-nearest neighbors, best model from grid search\t82.8%\t75.6%\n",
    "\n",
    "#Let's try another algorithm called random forests. Random forests is a specific type of decision tree algorithm\n"
   ]
  },
  {
   "cell_type": "code",
   "execution_count": 15,
   "metadata": {},
   "outputs": [
    {
     "name": "stderr",
     "output_type": "stream",
     "text": [
      "C:\\Users\\berka\\Anaconda3\\lib\\site-packages\\sklearn\\ensemble\\forest.py:245: FutureWarning: The default value of n_estimators will change from 10 in version 0.20 to 100 in 0.22.\n",
      "  \"10 in version 0.20 to 100 in 0.22.\", FutureWarning)\n",
      "C:\\Users\\berka\\Anaconda3\\lib\\site-packages\\sklearn\\ensemble\\forest.py:245: FutureWarning: The default value of n_estimators will change from 10 in version 0.20 to 100 in 0.22.\n",
      "  \"10 in version 0.20 to 100 in 0.22.\", FutureWarning)\n",
      "C:\\Users\\berka\\Anaconda3\\lib\\site-packages\\sklearn\\ensemble\\forest.py:245: FutureWarning: The default value of n_estimators will change from 10 in version 0.20 to 100 in 0.22.\n",
      "  \"10 in version 0.20 to 100 in 0.22.\", FutureWarning)\n",
      "C:\\Users\\berka\\Anaconda3\\lib\\site-packages\\sklearn\\ensemble\\forest.py:245: FutureWarning: The default value of n_estimators will change from 10 in version 0.20 to 100 in 0.22.\n",
      "  \"10 in version 0.20 to 100 in 0.22.\", FutureWarning)\n",
      "C:\\Users\\berka\\Anaconda3\\lib\\site-packages\\sklearn\\ensemble\\forest.py:245: FutureWarning: The default value of n_estimators will change from 10 in version 0.20 to 100 in 0.22.\n",
      "  \"10 in version 0.20 to 100 in 0.22.\", FutureWarning)\n",
      "C:\\Users\\berka\\Anaconda3\\lib\\site-packages\\sklearn\\ensemble\\forest.py:245: FutureWarning: The default value of n_estimators will change from 10 in version 0.20 to 100 in 0.22.\n",
      "  \"10 in version 0.20 to 100 in 0.22.\", FutureWarning)\n",
      "C:\\Users\\berka\\Anaconda3\\lib\\site-packages\\sklearn\\ensemble\\forest.py:245: FutureWarning: The default value of n_estimators will change from 10 in version 0.20 to 100 in 0.22.\n",
      "  \"10 in version 0.20 to 100 in 0.22.\", FutureWarning)\n",
      "C:\\Users\\berka\\Anaconda3\\lib\\site-packages\\sklearn\\ensemble\\forest.py:245: FutureWarning: The default value of n_estimators will change from 10 in version 0.20 to 100 in 0.22.\n",
      "  \"10 in version 0.20 to 100 in 0.22.\", FutureWarning)\n",
      "C:\\Users\\berka\\Anaconda3\\lib\\site-packages\\sklearn\\ensemble\\forest.py:245: FutureWarning: The default value of n_estimators will change from 10 in version 0.20 to 100 in 0.22.\n",
      "  \"10 in version 0.20 to 100 in 0.22.\", FutureWarning)\n",
      "C:\\Users\\berka\\Anaconda3\\lib\\site-packages\\sklearn\\ensemble\\forest.py:245: FutureWarning: The default value of n_estimators will change from 10 in version 0.20 to 100 in 0.22.\n",
      "  \"10 in version 0.20 to 100 in 0.22.\", FutureWarning)\n"
     ]
    },
    {
     "data": {
      "text/plain": [
       "0.8070125411417546"
      ]
     },
     "execution_count": 15,
     "metadata": {},
     "output_type": "execute_result"
    }
   ],
   "source": [
    "#code snippet:\n",
    "from sklearn.ensemble import RandomForestClassifier\n",
    "clf = RandomForestClassifier(random_state=1)\n",
    "scores = cross_val_score(clf, all_X, all_y, cv=10)\n",
    "accuracy_rf = scores.mean()\n",
    "accuracy_rf"
   ]
  },
  {
   "cell_type": "markdown",
   "metadata": {},
   "source": [
    "## Tuning our Random Forests Model with GridSearch"
   ]
  },
  {
   "cell_type": "code",
   "execution_count": 16,
   "metadata": {},
   "outputs": [],
   "source": [
    "# Using the default settings, our random forests model obtained a cross validation score of 80.7%.\n",
    "\n",
    "# Model\tCross-validation score\tKaggle score\n",
    "# Previous best Kaggle score\t82.3%\t78.0%\n",
    "# Logistic regression baseline\t82.4%\t?\n",
    "# K-nearest neighbors, k == 1\t78.6%\t?\n",
    "# K-nearest neighbors, k == 19\t82.4%\t?\n",
    "# K-nearest neighbors, best model from grid search\t82.8%\t75.6%\n",
    "# Random forests, default hyperparameters\t80.7%\t?\n",
    "\n",
    "#Just like we did with the k-nearest neighbors model, we can use GridSearchCV to test a variety of hyperparams to find\n",
    "#the best performing model.\n",
    "\n",
    "#The best way to see a list of available hyperparameters is by checking the documentation for the classifier— in this\n",
    "#case, the doc for RandomForestClassifier. Let's use grid search to test out combinations of the following hyperparams:\n",
    "\n",
    "# criterion: \"entropy\" or \"gini\"\n",
    "# max_depth: 5 or 10\n",
    "# max_features: \"log2\" or \"sqrt\"\n",
    "# min_samples_leaf: 1 or 5\n",
    "# min_samples_split: 3 or 5\n",
    "# n_estimators: 6 or 9"
   ]
  },
  {
   "cell_type": "code",
   "execution_count": 17,
   "metadata": {},
   "outputs": [
    {
     "name": "stdout",
     "output_type": "stream",
     "text": [
      "{'criterion': 'entropy', 'max_depth': 10, 'max_features': 'log2', 'min_samples_leaf': 1, 'min_samples_split': 5, 'n_estimators': 9}\n",
      "0.8428731762065096\n"
     ]
    },
    {
     "name": "stderr",
     "output_type": "stream",
     "text": [
      "C:\\Users\\berka\\Anaconda3\\lib\\site-packages\\sklearn\\model_selection\\_search.py:814: DeprecationWarning: The default of the `iid` parameter will change from True to False in version 0.22 and will be removed in 0.24. This will change numeric results when test-set sizes are unequal.\n",
      "  DeprecationWarning)\n"
     ]
    }
   ],
   "source": [
    "#code snippet:\n",
    "hyperparameters = {\"criterion\": [\"entropy\", \"gini\"],\n",
    "                   \"max_depth\": [5, 10],\n",
    "                   \"max_features\": [\"log2\", \"sqrt\"],\n",
    "                   \"min_samples_leaf\": [1, 5],\n",
    "                   \"min_samples_split\": [3, 5],\n",
    "                   \"n_estimators\": [6, 9]\n",
    "}\n",
    "\n",
    "clf = RandomForestClassifier(random_state=1)\n",
    "grid = GridSearchCV(clf,param_grid=hyperparameters,cv=10)\n",
    "\n",
    "grid.fit(all_X, all_y)\n",
    "\n",
    "best_params = grid.best_params_\n",
    "best_score = grid.best_score_\n",
    "\n",
    "print(best_params)\n",
    "print(best_score)"
   ]
  },
  {
   "cell_type": "markdown",
   "metadata": {},
   "source": [
    "## Submitting Random Forest Predictions to Kaggle - Attempt3"
   ]
  },
  {
   "cell_type": "code",
   "execution_count": 17,
   "metadata": {},
   "outputs": [],
   "source": [
    "#The cross-validation score for the best performing model was 84.3%, making it the best cv score we've obtained \n",
    "#Let's train it on the holdout data and create a submission file to see how it performs on the Kaggle."
   ]
  },
  {
   "cell_type": "code",
   "execution_count": 18,
   "metadata": {},
   "outputs": [],
   "source": [
    "# The `GridSearchCV` object is stored in memory from\n",
    "# the previous screen with the variable name `grid`\n",
    "best_rf = grid.best_estimator_\n",
    "holdout_predictions = best_rf.predict(holdout_no_id)\n",
    "\n",
    "holdout_ids = holdout[\"PassengerId\"]\n",
    "submission_df = {\"PassengerId\": holdout_ids,\n",
    "                 \"Survived\": holdout_predictions}\n",
    "submission = pd.DataFrame(submission_df)\n",
    "\n",
    "submission.to_csv(\"submission_2.csv\",index=False)"
   ]
  },
  {
   "cell_type": "code",
   "execution_count": null,
   "metadata": {},
   "outputs": [],
   "source": []
  }
 ],
 "metadata": {
  "kernelspec": {
   "display_name": "Python 3",
   "language": "python",
   "name": "python3"
  },
  "language_info": {
   "codemirror_mode": {
    "name": "ipython",
    "version": 3
   },
   "file_extension": ".py",
   "mimetype": "text/x-python",
   "name": "python",
   "nbconvert_exporter": "python",
   "pygments_lexer": "ipython3",
   "version": "3.7.1"
  }
 },
 "nbformat": 4,
 "nbformat_minor": 2
}
